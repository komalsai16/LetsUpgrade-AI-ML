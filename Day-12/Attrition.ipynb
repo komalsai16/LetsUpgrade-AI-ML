{
 "cells": [
  {
   "cell_type": "code",
   "execution_count": null,
   "metadata": {},
   "outputs": [],
   "source": [
    "import matplotlib.pyplot as plt\n",
    "import pandas as pd\n",
    "import seaborn as sns\n",
    "from scipy.stats import pearsonr\n",
    "\n",
    "\n",
    "data=pd.read_csv('E:/letsupgrade AI_ML/day 11/general_data.csv')\n",
    "data=data.drop_duplicates()\n",
    "print(data.head())\n",
    "print(data.columns)\n",
    "\n",
    "#checking for null values\n",
    "\n",
    "print(data.isnull().sum())\n",
    "\n",
    "data=data.dropna(axis=0)\n",
    "print(data.columns)\n",
    "print(data.isnull().sum())\n",
    "print(data.dtypes)\n",
    "print(data.describe())\n",
    "\n",
    "# Reassign target\n",
    "data.Attrition.replace(to_replace = dict(Yes = 1, No = 0), inplace = True)\n",
    "# Drop useless feat\n",
    "data = data.drop(columns=['StandardHours', \n",
    "                          'EmployeeCount', \n",
    "                          'Over18','EmployeeID'\n",
    "                        ])\n",
    "\n",
    "print(data.head())\n",
    "Attrition_people=data[data['Attrition']==1]\n",
    "k=Attrition_people.describe()\n",
    "non_Att_p=data[data['Attrition']==0]\n",
    "f=non_Att_p.describe()\n",
    "from scipy.stats import mannwhitneyu\n",
    "col=['Age','DistanceFromHome','JobLevel','MonthlyIncome','PercentSalaryHike','YearsSinceLastPromotion','YearsAtCompany','YearsWithCurrManager','TotalWorkingYears','NumCompaniesWorked']\n",
    "\n",
    "p_values=[]\n",
    "for i in col:\n",
    "    stats,p=mannwhitneyu(Attrition_people[i],non_Att_p[i])\n",
    "    p_values.append(p)"
   ]
  }
 ],
 "metadata": {
  "kernelspec": {
   "display_name": "Python 3",
   "language": "python",
   "name": "python3"
  },
  "language_info": {
   "codemirror_mode": {
    "name": "ipython",
    "version": 3
   },
   "file_extension": ".py",
   "mimetype": "text/x-python",
   "name": "python",
   "nbconvert_exporter": "python",
   "pygments_lexer": "ipython3",
   "version": "3.7.6"
  }
 },
 "nbformat": 4,
 "nbformat_minor": 4
}
