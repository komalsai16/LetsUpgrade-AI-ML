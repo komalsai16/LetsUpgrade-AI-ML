{
  "nbformat": 4,
  "nbformat_minor": 0,
  "metadata": {
    "colab": {
      "name": "Untitled4.ipynb",
      "provenance": []
    },
    "kernelspec": {
      "name": "python3",
      "display_name": "Python 3"
    }
  },
  "cells": [
    {
      "cell_type": "code",
      "metadata": {
        "id": "LY3LgY2IV3KN",
        "colab_type": "code",
        "colab": {
          "base_uri": "https://localhost:8080/",
          "height": 51
        },
        "outputId": "a54d0dc4-9a34-4c7e-c154-375aff0d44ef"
      },
      "source": [
        "x=input(\"enter string\")\n",
        "print(x[x.find(\"@\")+1:-4])"
      ],
      "execution_count": 2,
      "outputs": [
        {
          "output_type": "stream",
          "text": [
            "enter stringkomal@google.com\n",
            "google\n"
          ],
          "name": "stdout"
        }
      ]
    },
    {
      "cell_type": "code",
      "metadata": {
        "id": "MPvGNgdGXSnU",
        "colab_type": "code",
        "colab": {
          "base_uri": "https://localhost:8080/",
          "height": 50
        },
        "outputId": "e1653017-de1b-4b90-8210-647e6b3c229e"
      },
      "source": [
        "x=input().split(',')\n",
        "print(\",\".join(sorted(list(set(x)))))\n"
      ],
      "execution_count": null,
      "outputs": [
        {
          "output_type": "stream",
          "text": [
            "without,hello,bag,world\n",
            "bag,hello,without,world\n"
          ],
          "name": "stdout"
        }
      ]
    },
    {
      "cell_type": "code",
      "metadata": {
        "id": "gq2_6N4Kpy_1",
        "colab_type": "code",
        "colab": {
          "base_uri": "https://localhost:8080/",
          "height": 119
        },
        "outputId": "c7a41f03-be40-47d5-e77f-d3bdd6e996ae"
      },
      "source": [
        "a={\"books\",\"movies\",\"games\"}\n",
        "print(a)\n",
        "a.add(\"novels\")\n",
        "b=a.copy()\n",
        "print(b)\n",
        "a.update([\"mango\",\"banana\",\"orange\"])\n",
        "c=a.copy()\n",
        "print(c)\n",
        "d=len(a)\n",
        "a.remove(\"books\")\n",
        "e=a.copy()\n",
        "print(e)\n",
        "a.discard(\"movies\")\n",
        "f=a.copy()\n",
        "print(f)\n",
        "a.clear()\n",
        "g=a.copy()\n",
        "print(g)"
      ],
      "execution_count": 15,
      "outputs": [
        {
          "output_type": "stream",
          "text": [
            "{'books', 'movies', 'games'}\n",
            "{'novels', 'books', 'movies', 'games'}\n",
            "{'orange', 'banana', 'novels', 'movies', 'mango', 'books', 'games'}\n",
            "{'orange', 'banana', 'novels', 'movies', 'mango', 'games'}\n",
            "{'orange', 'banana', 'novels', 'mango', 'games'}\n",
            "set()\n"
          ],
          "name": "stdout"
        }
      ]
    },
    {
      "cell_type": "code",
      "metadata": {
        "id": "0ayy4mNWY_GZ",
        "colab_type": "code",
        "colab": {
          "base_uri": "https://localhost:8080/",
          "height": 51
        },
        "outputId": "e4e3cd3e-4d73-4db2-8469-b64759289cbd"
      },
      "source": [
        "l=list(map(int,input().split()))\n",
        "b=l.copy()\n",
        "for i in range(min(l),max(l)):\n",
        "  if i not in b:\n",
        "    print(i,end=' ')"
      ],
      "execution_count": 3,
      "outputs": [
        {
          "output_type": "stream",
          "text": [
            "1 3 4 5 6 7 8\n",
            "2 "
          ],
          "name": "stdout"
        }
      ]
    },
    {
      "cell_type": "code",
      "metadata": {
        "id": "PwbsyyMRpCNW",
        "colab_type": "code",
        "colab": {
          "base_uri": "https://localhost:8080/",
          "height": 50
        },
        "outputId": "890cb366-3726-4856-a731-2937d7af3967"
      },
      "source": [
        "l=list(map(int,input().split()))\n",
        "k=[]\n",
        "for i in l:\n",
        "  if i not in k:\n",
        "    k.append(i)\n",
        "print(k,end=' ')"
      ],
      "execution_count": null,
      "outputs": [
        {
          "output_type": "stream",
          "text": [
            "12 24 35 24 88 120 155 88 120 155\n",
            "[12, 24, 35, 88, 120, 155] "
          ],
          "name": "stdout"
        }
      ]
    },
    {
      "cell_type": "code",
      "metadata": {
        "id": "wp_1CLHYryvP",
        "colab_type": "code",
        "colab": {}
      },
      "source": [
        ""
      ],
      "execution_count": null,
      "outputs": []
    }
  ]
}