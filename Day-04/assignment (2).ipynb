{
 "cells": [
  {
   "cell_type": "code",
   "execution_count": 1,
   "metadata": {},
   "outputs": [
    {
     "name": "stdout",
     "output_type": "stream",
     "text": [
      "addition (15+9j)\n",
      "subtraction (-1+1j)\n",
      "multiply (36+68j)\n",
      "division (0.95+0.15j)\n"
     ]
    }
   ],
   "source": [
    "x=complex(7,5)\n",
    "y=complex(8,4)\n",
    "add=x+y\n",
    "sub=x-y\n",
    "mul=x*y\n",
    "div=x/y\n",
    "#fdiv=x//y \n",
    "#mdiv=x%y\n",
    "print(\"addition\",add)\n",
    "print(\"subtraction\",sub)\n",
    "print(\"multiply\",mul)\n",
    "print(\"division\",div)\n",
    "#print(\"floor division\",fdiv)\n",
    "#print(\"modulo division\",mdiv)"
   ]
  },
  {
   "cell_type": "markdown",
   "metadata": {},
   "source": [
    "range() function is used to return the sequence of numbers.Starting from 0 by default and increments by 1.\n",
    "The syntax of range():\n",
    "range(start,stop,step)\n",
    "start, it is optional, it by default started with 0.\n",
    "stop, it is required, it is used to stop at a particular point.\n",
    "step, it is optional, it is used to increment the value by 1(default)."
   ]
  },
  {
   "cell_type": "code",
   "execution_count": 2,
   "metadata": {},
   "outputs": [
    {
     "name": "stdout",
     "output_type": "stream",
     "text": [
      "3\n",
      "4\n",
      "5\n",
      "6\n",
      "7\n",
      "8\n",
      "9\n"
     ]
    }
   ],
   "source": [
    "a=range(3,10)\n",
    "for i in a:\n",
    "    print(i)"
   ]
  },
  {
   "cell_type": "code",
   "execution_count": 3,
   "metadata": {},
   "outputs": [
    {
     "name": "stdout",
     "output_type": "stream",
     "text": [
      "division is 5.0\n"
     ]
    }
   ],
   "source": [
    "a=25\n",
    "b=5\n",
    "sub=a-b\n",
    "if sub>25:\n",
    "    print(\"multiplication is\",a*b)\n",
    "else:\n",
    "    print(\"division is\",a/b)"
   ]
  },
  {
   "cell_type": "code",
   "execution_count": 4,
   "metadata": {},
   "outputs": [
    {
     "name": "stdout",
     "output_type": "stream",
     "text": [
      "square of the number minus 2 is 2\n",
      "square of the number minus 2 is 14\n",
      "square of the number minus 2 is 34\n",
      "square of the number minus 2 is 62\n",
      "square of the number minus 2 is 98\n"
     ]
    }
   ],
   "source": [
    "a=[1,2,3,4,5,6,7,8,9,10]\n",
    "for i in a:\n",
    "    if i%2==0:\n",
    "        print(\"square of the number minus 2 is\",i*i-2)"
   ]
  },
  {
   "cell_type": "code",
   "execution_count": 5,
   "metadata": {},
   "outputs": [
    {
     "name": "stdout",
     "output_type": "stream",
     "text": [
      "10.0\n",
      "15.0\n",
      "20.0\n",
      "25.0\n",
      "30.0\n",
      "35.0\n",
      "40.0\n",
      "45.0\n",
      "50.0\n"
     ]
    }
   ],
   "source": [
    "a=[10,20,30,40,50,60,70,80,90,100]\n",
    "for i in a:\n",
    "    i=i/2\n",
    "    if i>7:\n",
    "        print(i)"
   ]
  },
  {
   "cell_type": "code",
   "execution_count": null,
   "metadata": {},
   "outputs": [],
   "source": []
  }
 ],
 "metadata": {
  "kernelspec": {
   "display_name": "Python 3",
   "language": "python",
   "name": "python3"
  },
  "language_info": {
   "codemirror_mode": {
    "name": "ipython",
    "version": 3
   },
   "file_extension": ".py",
   "mimetype": "text/x-python",
   "name": "python",
   "nbconvert_exporter": "python",
   "pygments_lexer": "ipython3",
   "version": "3.7.6"
  }
 },
 "nbformat": 4,
 "nbformat_minor": 4
}
