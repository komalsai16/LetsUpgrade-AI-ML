{
 "cells": [
  {
   "cell_type": "code",
   "execution_count": 1,
   "metadata": {},
   "outputs": [
    {
     "name": "stdout",
     "output_type": "stream",
     "text": [
      "3\n",
      "5\n",
      "7\n",
      "11\n",
      "13\n",
      "17\n",
      "19\n",
      "23\n",
      "29\n",
      "31\n",
      "37\n",
      "41\n",
      "43\n",
      "47\n",
      "53\n",
      "59\n",
      "61\n",
      "67\n",
      "71\n",
      "73\n"
     ]
    }
   ],
   "source": [
    "c=0\n",
    "for i in range(3,100):\n",
    "    if i>1:\n",
    "        for j in range(2,i//2 + 2):\n",
    "            if(i%j)==0:\n",
    "                break\n",
    "            else:\n",
    "                if j==i//2 + 1:\n",
    "                    print(i)\n",
    "                    c=c+1\n",
    "    if c==20:\n",
    "        break"
   ]
  },
  {
   "cell_type": "code",
   "execution_count": 20,
   "metadata": {},
   "outputs": [
    {
     "name": "stdout",
     "output_type": "stream",
     "text": [
      "['how', 'are', 'you'] \n",
      " HOW ARE YOU \n",
      " how are you \n",
      " False \n",
      " False \n",
      " True \n",
      " 4 \n",
      " how are you \n",
      " How are you \n",
      "     how are you      \n",
      " False \n",
      " True \n",
      " 8 \n",
      " False \n",
      " False \n",
      " <class 'str'>\n"
     ]
    }
   ],
   "source": [
    "a=\"how are you\"\n",
    "b=a.split()\n",
    "c=a.upper()\n",
    "d=a.lower()\n",
    "e=a.isalpha()\n",
    "f=a.isdigit()\n",
    "g=a.islower()\n",
    "i=a.find(\"are\")\n",
    "j=a.replace(\"How\",\"Who\")\n",
    "k=a.capitalize()\n",
    "l=a.center(20)\n",
    "m=a.endswith(\".\")\n",
    "n=a.startswith(\"how\")\n",
    "o=a.index(\"you\")\n",
    "p=a.isalnum()\n",
    "q=a.isdecimal()\n",
    "h=type(a)\n",
    "print(b,\"\\n\",c,\"\\n\",d,\"\\n\",e,\"\\n\",f,\"\\n\",g,\"\\n\",i,\"\\n\",j,\"\\n\",k,\"\\n\",l,\"\\n\",m,\"\\n\",n,\"\\n\",o,\"\\n\",p,\"\\n\",q,\"\\n\",h)\n"
   ]
  },
  {
   "cell_type": "code",
   "execution_count": 22,
   "metadata": {},
   "outputs": [
    {
     "name": "stdout",
     "output_type": "stream",
     "text": [
      "Enter 1st stringmom\n",
      "Enter 2nd stringomm\n",
      "strings are anagrams\n",
      "s1 is palindrome\n",
      "s2 is not palindrome\n"
     ]
    }
   ],
   "source": [
    "def verify(s1,s2):\n",
    "    if(sorted(s1)==sorted(s2)):\n",
    "        print(\"strings are anagrams\")\n",
    "    else:\n",
    "        print(\"strings are not anagrams\")\n",
    "    if(s1==s1[::-1]):\n",
    "        print(\"s1 is palindrome\")\n",
    "    else:\n",
    "        print(\"s1 is not palindrome\")\n",
    "    if(s2==s2[::-1]):\n",
    "        print(\"s2 is palindrome\")\n",
    "    else:\n",
    "        print(\"s2 is not palindrome\")\n",
    "s1=input(\"Enter 1st string\")\n",
    "s2=input(\"Enter 2nd string\")\n",
    "verify(s1,s2)"
   ]
  },
  {
   "cell_type": "code",
   "execution_count": 23,
   "metadata": {},
   "outputs": [
    {
     "name": "stdout",
     "output_type": "stream",
     "text": [
      "enter stringGORANTLA.komalsai16@gmail.com\n",
      "gorantlakomalsai16gmailcom\n"
     ]
    }
   ],
   "source": [
    "def replace(a):\n",
    "    l=['!','@','#','$','%','^','&','*','+','-','_','?',',','.',':',';',\" \"]\n",
    "    for i in l:\n",
    "        a=a.replace(i,'')\n",
    "        a=a.lower()\n",
    "    print(a)\n",
    "s=input(\"enter string\")\n",
    "replace(s)"
   ]
  },
  {
   "cell_type": "code",
   "execution_count": null,
   "metadata": {},
   "outputs": [],
   "source": []
  }
 ],
 "metadata": {
  "kernelspec": {
   "display_name": "Python 3",
   "language": "python",
   "name": "python3"
  },
  "language_info": {
   "codemirror_mode": {
    "name": "ipython",
    "version": 3
   },
   "file_extension": ".py",
   "mimetype": "text/x-python",
   "name": "python",
   "nbconvert_exporter": "python",
   "pygments_lexer": "ipython3",
   "version": "3.7.6"
  }
 },
 "nbformat": 4,
 "nbformat_minor": 4
}
