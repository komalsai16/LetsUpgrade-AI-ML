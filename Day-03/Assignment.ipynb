{
 "cells": [
  {
   "cell_type": "code",
   "execution_count": 1,
   "metadata": {},
   "outputs": [
    {
     "name": "stdout",
     "output_type": "stream",
     "text": [
      "enter first complex number1+2j\n",
      "enter second complex number2+3j\n",
      "(1+1j)\n"
     ]
    }
   ],
   "source": [
    "n=complex(input('enter first complex number'))\n",
    "m=complex(input('enter second complex number'))\n",
    "subtraction=m-n\n",
    "print(subtraction)"
   ]
  },
  {
   "cell_type": "code",
   "execution_count": 2,
   "metadata": {},
   "outputs": [
    {
     "name": "stdout",
     "output_type": "stream",
     "text": [
      "8\n",
      "2\n"
     ]
    }
   ],
   "source": [
    "n=int(input())\n",
    "print(int(n**1/4.0))"
   ]
  },
  {
   "cell_type": "code",
   "execution_count": 3,
   "metadata": {},
   "outputs": [
    {
     "name": "stdout",
     "output_type": "stream",
     "text": [
      "8\n",
      "7\n",
      "7 8\n"
     ]
    }
   ],
   "source": [
    "n=int(input())\n",
    "m=int(input())\n",
    "t=n\n",
    "n=m\n",
    "m=t\n",
    "print(n,m)"
   ]
  },
  {
   "cell_type": "code",
   "execution_count": 4,
   "metadata": {},
   "outputs": [
    {
     "name": "stdout",
     "output_type": "stream",
     "text": [
      "8\n",
      "7\n",
      "7 8\n"
     ]
    }
   ],
   "source": [
    "n=int(input())\n",
    "m=int(input())\n",
    "n,m=m,n\n",
    "print(n,m)"
   ]
  },
  {
   "cell_type": "code",
   "execution_count": 5,
   "metadata": {},
   "outputs": [
    {
     "name": "stdout",
     "output_type": "stream",
     "text": [
      "enter the fahrenheit99.5\n",
      "celsius 37.5\n",
      "kelvin 310.65\n"
     ]
    }
   ],
   "source": [
    "f=float(input('enter the fahrenheit'))\n",
    "c=(f-32)*5/9\n",
    "k=(f-32)*5/9+273.15\n",
    "print(\"celsius\",c)\n",
    "print(\"kelvin\",k)"
   ]
  },
  {
   "cell_type": "code",
   "execution_count": 6,
   "metadata": {},
   "outputs": [
    {
     "name": "stdout",
     "output_type": "stream",
     "text": [
      "<class 'tuple'>\n",
      "<class 'str'>\n",
      "<class 'int'>\n",
      "<class 'float'>\n",
      "<class 'bool'>\n"
     ]
    }
   ],
   "source": [
    "n=(33,90,89,76)\n",
    "m=\"hello\"\n",
    "p=85\n",
    "l=56.9\n",
    "k=True\n",
    "a=type(n)\n",
    "b=type(m)\n",
    "c=type(p)\n",
    "d=type(l)\n",
    "e=type(k)\n",
    "print(a)\n",
    "print(b)\n",
    "print(c)\n",
    "print(d)\n",
    "print(e)"
   ]
  },
  {
   "cell_type": "markdown",
   "metadata": {},
   "source": [
    "1.Open the github website from any of the search engines.\n",
    "2.Create a github account.\n",
    "3.After creating the account click on the open repository.\n",
    "4.Enter the repository name as the LetsUpgrade AI-ML.\n",
    "5.In the description, name it as Assignments.\n",
    "6.Make sure that your account is public.\n",
    "7.Create the repository.\n",
    "8.Save the notebook file in your local folder.\n",
    "9.Open the repository and click on the upload file.\n",
    "10.Now drag the assignment of the day to the repository.\n",
    "11.Copy the link of the chrome to save it in the google form.\n",
    "12.Make sure you receive an email from lets upgrade."
   ]
  }
 ],
 "metadata": {
  "kernelspec": {
   "display_name": "Python 3",
   "language": "python",
   "name": "python3"
  },
  "language_info": {
   "codemirror_mode": {
    "name": "ipython",
    "version": 3
   },
   "file_extension": ".py",
   "mimetype": "text/x-python",
   "name": "python",
   "nbconvert_exporter": "python",
   "pygments_lexer": "ipython3",
   "version": "3.7.6"
  }
 },
 "nbformat": 4,
 "nbformat_minor": 4
}
